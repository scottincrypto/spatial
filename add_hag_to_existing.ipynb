{
 "cells": [
  {
   "cell_type": "code",
   "execution_count": 9,
   "id": "3135276a",
   "metadata": {},
   "outputs": [],
   "source": [
    "# imports\n",
    "import pdal\n",
    "import json\n",
    "import os\n",
    "import time\n",
    "from spatial_lib import run_pipe_with_time"
   ]
  },
  {
   "cell_type": "code",
   "execution_count": 12,
   "id": "c0853d7f",
   "metadata": {},
   "outputs": [
    {
     "data": {
      "text/plain": [
       "['output\\\\processed\\\\2024-03-14\\\\lidar_combined.laz',\n",
       " 'output\\\\processed\\\\2024-07-29\\\\lidar_combined.laz',\n",
       " 'output\\\\processed\\\\2024-10-04\\\\lidar_combined.laz',\n",
       " 'output\\\\processed\\\\2025-03-31\\\\lidar_combined.laz']"
      ]
     },
     "execution_count": 12,
     "metadata": {},
     "output_type": "execute_result"
    }
   ],
   "source": [
    "root_folder = os.path.join('output', 'processed')\n",
    "input_filename = 'lidar_combined.laz'\n",
    "\n",
    "folders_to_process = [\n",
    "    # '2021-12-15',\n",
    "    '2024-03-14',\n",
    "    '2024-07-29',\n",
    "    '2024-10-04',\n",
    "    '2025-03-31',\n",
    "]\n",
    "\n",
    "files = [os.path.join(root_folder, folder, input_filename) for folder in folders_to_process]\n",
    "\n",
    "files"
   ]
  },
  {
   "cell_type": "code",
   "execution_count": 13,
   "id": "95d989e6",
   "metadata": {},
   "outputs": [
    {
     "name": "stdout",
     "output_type": "stream",
     "text": [
      "Processing output\\processed\\2024-03-14\\lidar_combined.laz into output\\processed\\2024-03-14\\lidar_combined_hag.laz\n",
      "Starting PDAL pipeline execution in streaming mode...\n",
      "Pipeline execution complete. Processed 106712757 points in 241.31 seconds.\n",
      "Processing output\\processed\\2024-07-29\\lidar_combined.laz into output\\processed\\2024-07-29\\lidar_combined_hag.laz\n",
      "Starting PDAL pipeline execution in streaming mode...\n",
      "Pipeline execution complete. Processed 99959295 points in 219.84 seconds.\n",
      "Processing output\\processed\\2024-10-04\\lidar_combined.laz into output\\processed\\2024-10-04\\lidar_combined_hag.laz\n",
      "Starting PDAL pipeline execution in streaming mode...\n",
      "Pipeline execution complete. Processed 288821655 points in 950.13 seconds.\n",
      "Processing output\\processed\\2025-03-31\\lidar_combined.laz into output\\processed\\2025-03-31\\lidar_combined_hag.laz\n",
      "Starting PDAL pipeline execution in streaming mode...\n",
      "Pipeline execution complete. Processed 625353178 points in 5568.72 seconds.\n"
     ]
    }
   ],
   "source": [
    "for f in files:\n",
    "    newfile = f.replace('.laz', '_hag.laz')\n",
    "    print(f'Processing {f} into {newfile}')\n",
    "    \n",
    "    \n",
    "    # Define the PDAL pipeline\n",
    "    pipeline_json = {\n",
    "    \"pipeline\": [\n",
    "      {\n",
    "        \"type\": \"readers.las\",\n",
    "        \"filename\": f\n",
    "    },\n",
    "      {\n",
    "        \"type\": \"filters.hag_nn\"\n",
    "      },\n",
    "      {\n",
    "        \"type\": \"writers.las\",\n",
    "        \"filename\": newfile,\n",
    "        \"extra_dims\": \"HeightAboveGround=float32\" \n",
    "      },\n",
    "    ]\n",
    "  }\n",
    "\n",
    "    # Run the PDAL pipeline\n",
    "    p = pdal.Pipeline(json.dumps(pipeline_json))\n",
    "    run_pipe_with_time(pipeline=p, streaming=True)"
   ]
  }
 ],
 "metadata": {
  "kernelspec": {
   "display_name": "geo_env",
   "language": "python",
   "name": "python3"
  },
  "language_info": {
   "codemirror_mode": {
    "name": "ipython",
    "version": 3
   },
   "file_extension": ".py",
   "mimetype": "text/x-python",
   "name": "python",
   "nbconvert_exporter": "python",
   "pygments_lexer": "ipython3",
   "version": "3.12.10"
  }
 },
 "nbformat": 4,
 "nbformat_minor": 5
}
