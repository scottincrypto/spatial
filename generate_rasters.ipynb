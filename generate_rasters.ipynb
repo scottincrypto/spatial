{
 "cells": [
  {
   "cell_type": "code",
   "execution_count": 1,
   "id": "b9bfac1f",
   "metadata": {},
   "outputs": [],
   "source": [
    "# imports\n",
    "import pdal\n",
    "import json\n",
    "import os\n",
    "import time\n",
    "from math import sqrt\n",
    "\n",
    "\n",
    "def run_pipe_with_time(pipeline, streaming=False, chunk_size=10000):\n",
    "    \"\"\"\n",
    "    Run a PDAL pipeline and measure the time taken.\n",
    "    \"\"\"\n",
    "    print(\"Starting PDAL pipeline execution in streaming mode...\" if streaming else \"Starting PDAL pipeline execution...\")\n",
    "    start_time = time.time()\n",
    "    if streaming and pipeline.streamable:\n",
    "        # Execute the pipeline in streaming mode\n",
    "        num_points = pipeline.execute_streaming(chunk_size)\n",
    "    else:\n",
    "        # Execute the pipeline in normal mode\n",
    "        num_points = pipeline.execute()\n",
    "    end_time = time.time()\n",
    "    elapsed = end_time - start_time\n",
    "    # print(pipeline.log)\n",
    "    print(f\"Pipeline execution complete. Processed {num_points} points in {elapsed:.2f} seconds.\")\n",
    "\n",
    "input_file = \"output\\\\processed\\\\2024-10-04\\\\lidar_combined.laz\"\n",
    "# input_file = \"output\\\\processed\\\\2025-03-31\\\\lidar_combined.laz\"\n",
    "# input_file = \"output\\\\output_small.laz\""
   ]
  },
  {
   "cell_type": "code",
   "execution_count": null,
   "id": "02cc8f61",
   "metadata": {},
   "outputs": [
    {
     "name": "stdout",
     "output_type": "stream",
     "text": [
      "{\n",
      "  \"pipeline\": [\n",
      "    {\n",
      "      \"type\": \"readers.las\",\n",
      "      \"filename\": \"output\\\\output_small.laz\"\n",
      "    },\n",
      "    {\n",
      "      \"type\": \"writers.gdal\",\n",
      "      \"filename\": \"output\\\\count_small_0.25.tif\",\n",
      "      \"resolution\": 0.25,\n",
      "      \"output_type\": \"count\"\n",
      "    }\n",
      "  ]\n",
      "}\n",
      "Starting PDAL pipeline execution in streaming mode...\n",
      "Pipeline execution complete. Processed 16707192 points in 43.31 seconds.\n"
     ]
    },
    {
     "data": {
      "text/plain": [
       "[1364, 2156, 8580]"
      ]
     },
     "execution_count": 10,
     "metadata": {},
     "output_type": "execute_result"
    }
   ],
   "source": [
    "# create a count output raster at a specified resolution\n",
    "\n",
    "resolution = 0.2\n",
    "output_file = os.path.join(os.path.dirname(input_file), f\"count_small_{resolution}.tif\")\n",
    "\n",
    "pipeline = {\n",
    "    \"pipeline\": []\n",
    "}\n",
    "\n",
    "pipeline[\"pipeline\"].append({ \"type\":\"readers.las\",  \"filename\":input_file })\n",
    "pipeline['pipeline'].append({ \"type\":\"writers.gdal\",\n",
    "      \"filename\":output_file,\n",
    "      \"resolution\":resolution,\n",
    "      \"output_type\":\"count\" }\n",
    "    )\n",
    "\n",
    "\n",
    "print(json.dumps(pipeline, indent=2))\n",
    "run_pipe_with_time(pdal.Pipeline(json.dumps(pipeline)), streaming=True)\n",
    "\n",
    "# file sizes for [0.1,0.2,0.25]\n",
    "# files = 11\n",
    "# tiles_per_file = 4\n",
    "# size_per_file = [31,49,195]\n",
    "\n",
    "# size = [s * tiles_per_file * files for s in size_per_file]\n",
    "\n",
    "# size\n",
    "# [1364, 2156, 8580]\n",
    "\n",
    "# outcomes:\n",
    "# all OK on the histograms - pick 0.2 to get a 2GB output raster file\n",
    "\n",
    "# Check the histogram in QGIS"
   ]
  },
  {
   "cell_type": "code",
   "execution_count": null,
   "id": "d9848d2f",
   "metadata": {},
   "outputs": [],
   "source": [
    "# check point spacing\n",
    "pipeline_json = {\n",
    "    \"pipeline\": [\n",
    "        input_file,\n",
    "        {\n",
    "            \"type\": \"filters.stats\",\n",
    "            \"dimensions\": \"X,Y\"\n",
    "        }\n",
    "    ]\n",
    "}\n",
    "\n",
    "p = pdal.Pipeline(json.dumps(pipeline_json))\n",
    "p.execute()\n",
    "\n",
    "metadata = p.metadata\n",
    "stats = metadata[\"metadata\"][\"filters.stats\"][\"statistic\"]\n",
    "las_bounds = metadata[\"metadata\"][\"readers.las\"]\n",
    "\n",
    "# Extract count from one dimension (X or Y, both same)\n",
    "count = stats[0][\"count\"]\n",
    "\n",
    "# Extract bounding box from LAS metadata\n",
    "minx, maxx = las_bounds[\"minx\"], las_bounds[\"maxx\"]\n",
    "miny, maxy = las_bounds[\"miny\"], las_bounds[\"maxy\"]\n",
    "area_m2 = (maxx - minx) * (maxy - miny)\n",
    "\n",
    "# Estimate points per square metre\n",
    "points_per_m2 = count / area_m2\n",
    "avg_spacing_m = sqrt(1 / points_per_m2)\n",
    "\n",
    "print(f\"Input file: {input_file}\")\n",
    "print(f\"Point count: {count:,}\")\n",
    "print(f\"Area: {area_m2:.2f} m²\")\n",
    "print(f\"Avg point spacing: {avg_spacing_m:.2f} m\")"
   ]
  },
  {
   "cell_type": "markdown",
   "id": "6c1a1a89",
   "metadata": {},
   "source": [
    "| Avg Point Spacing | Suggested Resolution |\n",
    "| ----------------- | -------------------- |\n",
    "| < 0.1 m           | 0.1 m                |\n",
    "| \\~0.2–0.5 m       | 0.25–0.5 m           |\n",
    "| \\~1.0 m           | 1.0 m                |\n",
    "| \\~2.0 m           | 2.0 m                |\n"
   ]
  },
  {
   "cell_type": "code",
   "execution_count": 2,
   "id": "4fed0659",
   "metadata": {},
   "outputs": [
    {
     "name": "stdout",
     "output_type": "stream",
     "text": [
      "{\n",
      "  \"pipeline\": [\n",
      "    {\n",
      "      \"type\": \"readers.las\",\n",
      "      \"filename\": \"output\\\\processed\\\\2024-10-04\\\\lidar_combined.laz\"\n",
      "    },\n",
      "    {\n",
      "      \"type\": \"writers.gdal\",\n",
      "      \"filename\": \"output\\\\processed\\\\2024-10-04\\\\dsm_0.2.tif\",\n",
      "      \"resolution\": 0.2,\n",
      "      \"output_type\": \"max\"\n",
      "    },\n",
      "    {\n",
      "      \"type\": \"filters.range\",\n",
      "      \"limits\": \"Classification[2:2]\"\n",
      "    },\n",
      "    {\n",
      "      \"type\": \"writers.gdal\",\n",
      "      \"filename\": \"output\\\\processed\\\\2024-10-04\\\\dtm_0.2.tif\",\n",
      "      \"resolution\": 0.2,\n",
      "      \"output_type\": \"min\"\n",
      "    }\n",
      "  ],\n",
      "  \"num_threads\": 8\n",
      "}\n",
      "Starting PDAL pipeline execution in streaming mode...\n",
      "Pipeline execution complete. Processed 226308134 points in 16702.46 seconds.\n"
     ]
    }
   ],
   "source": [
    "# generate dsm and dtm rasters\n",
    "resolution = 0.2\n",
    "\n",
    "\n",
    "pipeline = {\n",
    "    \"pipeline\": []\n",
    "}\n",
    "\n",
    "pipeline[\"pipeline\"].append({ \"type\":\"readers.las\",  \"filename\":input_file })\n",
    "\n",
    "# write the dsm raster by taking the maximum value in each pixel\n",
    "pipeline['pipeline'].append({ \"type\":\"writers.gdal\",\n",
    "      \"filename\":os.path.join(os.path.dirname(input_file), f\"dsm_{resolution}.tif\"),\n",
    "      \"resolution\":resolution,\n",
    "      \"output_type\":\"max\" }\n",
    "    )\n",
    "# keep only ground returns (Class 2)\n",
    "pipeline['pipeline'].append({                                   \n",
    "      \"type\": \"filters.range\",\n",
    "      \"limits\": \"Classification[2:2]\"\n",
    "    }\n",
    "    )\n",
    "# write the dtm raster by taking the min value in each pixel from the filtered data\n",
    "pipeline['pipeline'].append({ \"type\":\"writers.gdal\",\n",
    "      \"filename\":os.path.join(os.path.dirname(input_file), f\"dtm_{resolution}.tif\"),\n",
    "      \"resolution\":resolution,\n",
    "      \"output_type\":\"min\" }\n",
    "    )\n",
    "\n",
    "pipeline['num_threads'] = 8\n",
    "\n",
    "\n",
    "print(json.dumps(pipeline, indent=2))\n",
    "run_pipe_with_time(pdal.Pipeline(json.dumps(pipeline)), streaming=True)"
   ]
  },
  {
   "cell_type": "code",
   "execution_count": 3,
   "id": "2db8737a",
   "metadata": {},
   "outputs": [
    {
     "name": "stdout",
     "output_type": "stream",
     "text": [
      "gdal_fillnodata output\\dtm_0.2.tif output\\dtm_filled_0.2.tif -md 20 -b 1 -of GTiff\n"
     ]
    }
   ],
   "source": [
    "# fill the nodata values in the dtm raster\n",
    "# Use gdal_fillnodata.bat output/dtm_small_fill_20_0_0.2.tif output/dtm_small_fill_20_0_0.2.tif -md 20 -b 1 -of GTiff\n",
    "dtm = os.path.join(os.path.dirname(input_file), f\"dtm_{resolution}.tif\")\n",
    "outfile = os.path.join(os.path.dirname(input_file), f\"dtm_filled_{resolution}.tif\")\n",
    "\n",
    "command = f\"gdal_fillnodata {dtm} {outfile} -md 20 -b 1 -of GTiff\"\n",
    "print(command)\n",
    "# os.system(command)"
   ]
  },
  {
   "cell_type": "code",
   "execution_count": 4,
   "id": "713db526",
   "metadata": {},
   "outputs": [
    {
     "name": "stdout",
     "output_type": "stream",
     "text": [
      "output\\dsm_0.2.tif\n",
      "gdal_calc -A output\\dsm_0.2.tif -B output\\dtm_filled_0.2.tif --outfile=output\\chm_0.2.tif --calc=\"A-B\" --NoDataValue=-9999 \n"
     ]
    }
   ],
   "source": [
    "\n",
    "# construct the chm command line and shell it out\n",
    "dsm = os.path.join(os.path.dirname(input_file), f\"dsm_{resolution}.tif\")\n",
    "dtm = os.path.join(os.path.dirname(input_file), f\"dtm_filled_{resolution}.tif\")\n",
    "outfile = os.path.join(os.path.dirname(input_file), f\"chm_{resolution}.tif\")\n",
    "# command = f\"gdal_calc.py -A {dsm} -B {dtm} --outfile={outfile} --calc=\\\"A-B\\\" --NoDataValue=-9999 \"\n",
    "print(dsm)\n",
    "command = f\"gdal_calc -A {dsm} -B {dtm} --outfile={outfile} --calc=\\\"A-B\\\" --NoDataValue=-9999 \"\n",
    "print(command)\n",
    "# os.system(command)\n"
   ]
  }
 ],
 "metadata": {
  "kernelspec": {
   "display_name": "geo_env",
   "language": "python",
   "name": "python3"
  },
  "language_info": {
   "codemirror_mode": {
    "name": "ipython",
    "version": 3
   },
   "file_extension": ".py",
   "mimetype": "text/x-python",
   "name": "python",
   "nbconvert_exporter": "python",
   "pygments_lexer": "ipython3",
   "version": "3.12.10"
  }
 },
 "nbformat": 4,
 "nbformat_minor": 5
}
