{
 "cells": [
  {
   "cell_type": "code",
   "execution_count": 1,
   "id": "b9bfac1f",
   "metadata": {},
   "outputs": [],
   "source": [
    "# imports\n",
    "import pdal\n",
    "import json\n",
    "import os\n",
    "import time\n",
    "from math import sqrt\n",
    "from spatial_lib import run_pipe_with_time\n",
    "\n",
    "\n",
    "\n",
    "input_file = \"output\\\\processed\\\\2023-12-22\\\\lidar_combined.laz\"\n",
    "# input_file = \"output\\\\processed\\\\2025-03-31\\\\lidar_combined.laz\"\n",
    "# input_file = \"output\\\\output_small.laz\""
   ]
  },
  {
   "cell_type": "code",
   "execution_count": 3,
   "id": "d9848d2f",
   "metadata": {},
   "outputs": [
    {
     "name": "stdout",
     "output_type": "stream",
     "text": [
      "Input file: output\\processed\\2023-12-22\\lidar_combined.laz\n",
      "Point count: 92,990,426\n",
      "Area: 12000000.00 m²\n",
      "Avg point spacing: 0.36 m\n"
     ]
    }
   ],
   "source": [
    "# check point spacing\n",
    "pipeline_json = {\n",
    "    \"pipeline\": [\n",
    "        input_file,\n",
    "        {\n",
    "            \"type\": \"filters.stats\",\n",
    "            \"dimensions\": \"X,Y\"\n",
    "        }\n",
    "    ]\n",
    "}\n",
    "\n",
    "p = pdal.Pipeline(json.dumps(pipeline_json))\n",
    "p.execute()\n",
    "\n",
    "metadata = p.metadata\n",
    "stats = metadata[\"metadata\"][\"filters.stats\"][\"statistic\"]\n",
    "las_bounds = metadata[\"metadata\"][\"readers.las\"]\n",
    "\n",
    "# Extract count from one dimension (X or Y, both same)\n",
    "count = stats[0][\"count\"]\n",
    "\n",
    "# Extract bounding box from LAS metadata\n",
    "minx, maxx = las_bounds[\"minx\"], las_bounds[\"maxx\"]\n",
    "miny, maxy = las_bounds[\"miny\"], las_bounds[\"maxy\"]\n",
    "area_m2 = (maxx - minx) * (maxy - miny)\n",
    "\n",
    "# Estimate points per square metre\n",
    "points_per_m2 = count / area_m2\n",
    "avg_spacing_m = sqrt(1 / points_per_m2)\n",
    "avg_spacing_m_rounded = round(avg_spacing_m, 2)\n",
    "\n",
    "print(f\"Input file: {input_file}\")\n",
    "print(f\"Point count: {count:,}\")\n",
    "print(f\"Area: {area_m2:.2f} m²\")\n",
    "print(f\"Avg point spacing: {avg_spacing_m:.2f} m\")"
   ]
  },
  {
   "cell_type": "markdown",
   "id": "6c1a1a89",
   "metadata": {},
   "source": [
    "| Avg Point Spacing | Suggested Resolution |\n",
    "| ----------------- | -------------------- |\n",
    "| < 0.1 m           | 0.1 m                |\n",
    "| \\~0.2–0.5 m       | 0.25–0.5 m           |\n",
    "| \\~1.0 m           | 1.0 m                |\n",
    "| \\~2.0 m           | 2.0 m                |\n"
   ]
  },
  {
   "cell_type": "code",
   "execution_count": 4,
   "id": "4fed0659",
   "metadata": {},
   "outputs": [
    {
     "name": "stdout",
     "output_type": "stream",
     "text": [
      "{\n",
      "  \"pipeline\": [\n",
      "    {\n",
      "      \"type\": \"readers.las\",\n",
      "      \"filename\": \"output\\\\processed\\\\2023-12-22\\\\lidar_combined.laz\"\n",
      "    },\n",
      "    {\n",
      "      \"type\": \"writers.gdal\",\n",
      "      \"filename\": \"output\\\\processed\\\\2023-12-22\\\\dsm_0.36.tif\",\n",
      "      \"resolution\": 0.36,\n",
      "      \"output_type\": \"max\",\n",
      "      \"bounds\": \"([295000,298000],[6425000,6429000])\"\n",
      "    },\n",
      "    {\n",
      "      \"type\": \"filters.range\",\n",
      "      \"limits\": \"Classification[2:2]\"\n",
      "    },\n",
      "    {\n",
      "      \"type\": \"writers.gdal\",\n",
      "      \"filename\": \"output\\\\processed\\\\2023-12-22\\\\dtm_0.36.tif\",\n",
      "      \"resolution\": 0.36,\n",
      "      \"output_type\": \"min\",\n",
      "      \"bounds\": \"([295000,298000],[6425000,6429000])\"\n",
      "    }\n",
      "  ]\n",
      "}\n",
      "Starting PDAL pipeline execution in streaming mode...\n",
      "Pipeline execution complete. Processed 65704094 points in 366.94 seconds.\n",
      "Pipeline execution complete. Processed 65704094 points in 366.94 seconds.\n"
     ]
    }
   ],
   "source": [
    "# generate dsm and dtm rasters\n",
    "resolution = avg_spacing_m_rounded\n",
    "\n",
    "\n",
    "pipeline = {\n",
    "    \"pipeline\": []\n",
    "}\n",
    "\n",
    "pipeline[\"pipeline\"].append({ \"type\":\"readers.las\",  \"filename\":input_file })\n",
    "\n",
    "# write the dsm raster by taking the maximum value in each pixel\n",
    "pipeline['pipeline'].append({ \"type\":\"writers.gdal\",\n",
    "      \"filename\":os.path.join(os.path.dirname(input_file), f\"dsm_{resolution}.tif\"),\n",
    "      \"resolution\":resolution,\n",
    "      \"output_type\":\"max\",\n",
    "      \"bounds\": \"([295000,298000],[6425000,6429000])\"\n",
    "      }\n",
    "    )\n",
    "# keep only ground returns (Class 2)\n",
    "pipeline['pipeline'].append({                                   \n",
    "      \"type\": \"filters.range\",\n",
    "      \"limits\": \"Classification[2:2]\"\n",
    "    }\n",
    "    )\n",
    "# write the dtm raster by taking the min value in each pixel from the filtered data\n",
    "pipeline['pipeline'].append({ \"type\":\"writers.gdal\",\n",
    "      \"filename\":os.path.join(os.path.dirname(input_file), f\"dtm_{resolution}.tif\"),\n",
    "      \"resolution\":resolution,\n",
    "      \"output_type\":\"min\",\n",
    "      \"bounds\": \"([295000,298000],[6425000,6429000])\"\n",
    "      }\n",
    "    )\n",
    "\n",
    "# pipeline['num_threads'] = 8\n",
    "\n",
    "\n",
    "print(json.dumps(pipeline, indent=2))\n",
    "run_pipe_with_time(pdal.Pipeline(json.dumps(pipeline)), streaming=True)"
   ]
  },
  {
   "cell_type": "code",
   "execution_count": 5,
   "id": "2db8737a",
   "metadata": {},
   "outputs": [
    {
     "name": "stdout",
     "output_type": "stream",
     "text": [
      "micromamba run -n geo_env gdal_fillnodata output\\processed\\2023-12-22\\dtm_0.36.tif output\\processed\\2023-12-22\\dtm_filled_0.36.tif -md 20 -b 1 -of GTiff\n",
      "Return code: 0\n",
      "Output: 0...10...20...30...40...50...60...70...80...90...100 - done.\n",
      "\n",
      "Return code: 0\n",
      "Output: 0...10...20...30...40...50...60...70...80...90...100 - done.\n",
      "\n"
     ]
    }
   ],
   "source": [
    "import subprocess\n",
    "\n",
    "# fill the nodata values in the dtm raster\n",
    "# Use gdal_fillnodata.bat output/dtm_small_fill_20_0_0.2.tif output/dtm_small_fill_20_0_0.2.tif -md 20 -b 1 -of GTiff\n",
    "dtm = os.path.join(os.path.dirname(input_file), f\"dtm_{resolution}.tif\")\n",
    "outfile = os.path.join(os.path.dirname(input_file), f\"dtm_filled_{resolution}.tif\")\n",
    "\n",
    "command = f\"micromamba run -n geo_env gdal_fillnodata {dtm} {outfile} -md 20 -b 1 -of GTiff\"\n",
    "print(command)\n",
    "result = subprocess.run(command, shell=True, capture_output=True, text=True)\n",
    "print(f\"Return code: {result.returncode}\")\n",
    "if result.stdout:\n",
    "    print(f\"Output: {result.stdout}\")\n",
    "if result.stderr:\n",
    "    print(f\"Error: {result.stderr}\")\n",
    "# os.system(command)"
   ]
  },
  {
   "cell_type": "code",
   "execution_count": 6,
   "id": "713db526",
   "metadata": {},
   "outputs": [
    {
     "name": "stdout",
     "output_type": "stream",
     "text": [
      "micromamba run -n geo_env gdal_calc -A output\\processed\\2023-12-22\\dsm_0.36.tif -B output\\processed\\2023-12-22\\dtm_filled_0.36.tif --outfile=output\\processed\\2023-12-22\\chm_0.36.tif --calc=\"A-B\" --NoDataValue=-9999 \n",
      "Return code: 0\n",
      "Output: 0...10...20...30...40...50...60...70...80...90...100 - done.\n",
      "\n",
      "Return code: 0\n",
      "Output: 0...10...20...30...40...50...60...70...80...90...100 - done.\n",
      "\n"
     ]
    }
   ],
   "source": [
    "# construct the chm command line and shell it out\n",
    "dsm = os.path.join(os.path.dirname(input_file), f\"dsm_{resolution}.tif\")\n",
    "dtm = os.path.join(os.path.dirname(input_file), f\"dtm_filled_{resolution}.tif\")\n",
    "outfile = os.path.join(os.path.dirname(input_file), f\"chm_{resolution}.tif\")\n",
    "# command = f\"gdal_calc.py -A {dsm} -B {dtm} --outfile={outfile} --calc=\\\"A-B\\\" --NoDataValue=-9999 \"\n",
    "# print(dsm)\n",
    "command = f\"micromamba run -n geo_env gdal_calc -A {dsm} -B {dtm} --outfile={outfile} --calc=\\\"A-B\\\" --NoDataValue=-9999 \"\n",
    "print(command)\n",
    "result = subprocess.run(command, shell=True, capture_output=True, text=True)\n",
    "print(f\"Return code: {result.returncode}\")\n",
    "if result.stdout:\n",
    "    print(f\"Output: {result.stdout}\")\n",
    "if result.stderr:\n",
    "    print(f\"Error: {result.stderr}\")\n",
    "# os.system(command)"
   ]
  }
 ],
 "metadata": {
  "kernelspec": {
   "display_name": "geo_env",
   "language": "python",
   "name": "python3"
  },
  "language_info": {
   "codemirror_mode": {
    "name": "ipython",
    "version": 3
   },
   "file_extension": ".py",
   "mimetype": "text/x-python",
   "name": "python",
   "nbconvert_exporter": "python",
   "pygments_lexer": "ipython3",
   "version": "3.12.10"
  }
 },
 "nbformat": 4,
 "nbformat_minor": 5
}
