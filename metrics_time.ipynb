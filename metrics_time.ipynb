{
 "cells": [
  {
   "cell_type": "code",
   "execution_count": 29,
   "id": "c87de6aa",
   "metadata": {},
   "outputs": [
    {
     "ename": "ModuleNotFoundError",
     "evalue": "No module named 'plotly'",
     "output_type": "error",
     "traceback": [
      "\u001b[31m---------------------------------------------------------------------------\u001b[39m",
      "\u001b[31mModuleNotFoundError\u001b[39m                       Traceback (most recent call last)",
      "\u001b[36mCell\u001b[39m\u001b[36m \u001b[39m\u001b[32mIn[29]\u001b[39m\u001b[32m, line 13\u001b[39m\n\u001b[32m     11\u001b[39m \u001b[38;5;28;01mimport\u001b[39;00m\u001b[38;5;250m \u001b[39m\u001b[34;01mhashlib\u001b[39;00m\n\u001b[32m     12\u001b[39m \u001b[38;5;28;01mimport\u001b[39;00m\u001b[38;5;250m \u001b[39m\u001b[34;01mre\u001b[39;00m\n\u001b[32m---> \u001b[39m\u001b[32m13\u001b[39m \u001b[38;5;28;01mimport\u001b[39;00m\u001b[38;5;250m \u001b[39m\u001b[34;01mplotly\u001b[39;00m\u001b[34;01m.\u001b[39;00m\u001b[34;01mexpress\u001b[39;00m\u001b[38;5;250m \u001b[39m\u001b[38;5;28;01mas\u001b[39;00m\u001b[38;5;250m \u001b[39m\u001b[34;01mpx\u001b[39;00m\n",
      "\u001b[31mModuleNotFoundError\u001b[39m: No module named 'plotly'"
     ]
    }
   ],
   "source": [
    "# imports \n",
    "import geopandas as gpd\n",
    "import rasterio\n",
    "from rasterio.mask import mask\n",
    "import numpy as np\n",
    "from shapely.geometry import mapping\n",
    "import pandas as pd\n",
    "import polars as pl\n",
    "import os\n",
    "from glob import glob\n",
    "import hashlib\n",
    "import re\n",
    "import plotly.express as px"
   ]
  },
  {
   "cell_type": "code",
   "execution_count": 10,
   "id": "2de3b48f",
   "metadata": {},
   "outputs": [],
   "source": [
    "# load the shapefile\n",
    "file = \"output\\\\shapefiles\\\\rehab_poly_exploded\\\\rehab_poly_exploded.shp\"\n",
    "# file = \"output\\\\rehab_poly_unmodified\\\\rehab_poly_unmodified.shp\"\n",
    "shapes = gpd.read_file(file)\n",
    "shapes = shapes.to_crs(\"EPSG:7856\")  # match CHM CRS\n",
    "# shapes.rehab_zone.isnull().sum()  # check for null values in rehab_zone\n",
    "\n",
    "# recreate the virtual columns:\n",
    "# Get centroids and extract x, y coordinates\n",
    "centroids = shapes.geometry.centroid\n",
    "x_coords = centroids.x\n",
    "y_coords = centroids.y\n",
    "\n",
    "# Create the concatenated string (x,y format)\n",
    "coord_strings = x_coords.astype(str) + ',' + y_coords.astype(str)\n",
    "\n",
    "# Calculate MD5 hash for each coordinate string\n",
    "shapes['poly_id'] = coord_strings.apply(lambda x: hashlib.md5(x.encode()).hexdigest())\n",
    "shapes['short_id'] = shapes.poly_id.str[-6:]  # create a short ID from the poly_id\n",
    "\n",
    "# shapes.sort_values(by='short_id') "
   ]
  },
  {
   "cell_type": "code",
   "execution_count": 19,
   "id": "1aedbf4e",
   "metadata": {},
   "outputs": [
    {
     "data": {
      "text/plain": [
       "{'2021-06-15': {'chm': 'output\\\\processed\\\\2021-06-15\\\\chm_0.73.tif'},\n",
       " '2021-12-15': {'chm': 'output\\\\processed\\\\2021-12-15\\\\chm_0.67.tif'},\n",
       " '2022-06-15': {'chm': 'output\\\\processed\\\\2022-06-15\\\\chm_0.65.tif'},\n",
       " '2022-12-19': {'chm': 'output\\\\processed\\\\2022-12-19\\\\chm_0.68.tif'},\n",
       " '2023-12-22': {'chm': 'output\\\\processed\\\\2023-12-22\\\\chm_0.36.tif'},\n",
       " '2024-03-14': {'chm': 'output\\\\processed\\\\2024-03-14\\\\chm_0.35.tif'},\n",
       " '2024-07-29': {'chm': 'output\\\\processed\\\\2024-07-29\\\\chm_0.35.tif'},\n",
       " '2024-10-04': {'chm': 'output\\\\processed\\\\2024-10-04\\\\chm_0.2.tif'},\n",
       " '2025-03-31': {'chm': 'output\\\\processed\\\\2025-03-31\\\\chm_0.2.tif'}}"
      ]
     },
     "execution_count": 19,
     "metadata": {},
     "output_type": "execute_result"
    }
   ],
   "source": [
    "# go through the processed files and find the chm. put them in a dict indexed by the date\n",
    "\n",
    "processed_dir = \"output\\\\processed\"\n",
    "chm_by_date = {}\n",
    "\n",
    "for date_folder in os.listdir(processed_dir):\n",
    "    date_path = os.path.join(processed_dir, date_folder)\n",
    "    if os.path.isdir(date_path):\n",
    "        chm_files = glob(os.path.join(date_path, \"chm*.tif\"))\n",
    "        if chm_files:\n",
    "            # Store relative path from project root\n",
    "            rel_path = os.path.relpath(chm_files[0])\n",
    "            chm_by_date[date_folder] = {\"chm\": rel_path}\n",
    "\n",
    "chm_by_date"
   ]
  },
  {
   "cell_type": "code",
   "execution_count": 26,
   "id": "39cdf779",
   "metadata": {},
   "outputs": [
    {
     "name": "stdout",
     "output_type": "stream",
     "text": [
      "Processing 2021-06-15: output\\processed\\2021-06-15\\chm_0.73.tif\n",
      "Processing 2021-12-15: output\\processed\\2021-12-15\\chm_0.67.tif\n",
      "Processing 2022-06-15: output\\processed\\2022-06-15\\chm_0.65.tif\n",
      "Processing 2022-12-19: output\\processed\\2022-12-19\\chm_0.68.tif\n",
      "Processing 2023-12-22: output\\processed\\2023-12-22\\chm_0.36.tif\n",
      "Processing 2024-03-14: output\\processed\\2024-03-14\\chm_0.35.tif\n",
      "Processing 2024-07-29: output\\processed\\2024-07-29\\chm_0.35.tif\n",
      "Processing 2024-10-04: output\\processed\\2024-10-04\\chm_0.2.tif\n",
      "Processing 2025-03-31: output\\processed\\2025-03-31\\chm_0.2.tif\n"
     ]
    }
   ],
   "source": [
    "# def process_chm_files(chm_dict, shapes_gdf):\n",
    "\"\"\"\n",
    "Process CHM files and calculate statistics for each shape and date.\n",
    "\n",
    "Parameters:\n",
    "chm_dict: Dictionary with dates as keys and CHM file paths\n",
    "shapes_gdf: GeoDataFrame containing the shapefile data\n",
    "\n",
    "Returns:\n",
    "polars.DataFrame with statistics for each date and MAP_NAME\n",
    "\"\"\"\n",
    "all_results = []\n",
    "\n",
    "# chm_by_date = dict(list(chm_by_date.items()))\n",
    "# print(chm_by_date)\n",
    "\n",
    "# Process each date and CHM file\n",
    "for date, file_info in chm_by_date.items():\n",
    "    chm_file = file_info['chm']\n",
    "    match = re.search(r'chm_([0-9.]+)\\.tif', chm_file)\n",
    "    if match:\n",
    "        resolution = float(match.group(1))\n",
    "    else:\n",
    "        print(f\"  Warning: Could not extract resolution from {chm_file}\")\n",
    "        resultion = None\n",
    "        continue\n",
    "    \n",
    "    print(f\"Processing {date}: {chm_file}\")\n",
    "    \n",
    "    try:\n",
    "        with rasterio.open(chm_file) as src:\n",
    "            # Process each shape in the shapefile\n",
    "            for _, row in shapes.iterrows():\n",
    "                geom = [mapping(row.geometry)]\n",
    "                name = row[\"MAP_NAME\"]\n",
    "                \n",
    "                try:\n",
    "                    # Mask the raster to the geometry\n",
    "                    out_image, _ = mask(src, geom, crop=True)\n",
    "                    chm = out_image[0]\n",
    "                    chm = chm[chm > 0]  # remove NoData or zero-height\n",
    "                    \n",
    "                    if chm.size > 0:\n",
    "                        result = {\n",
    "                            \"date\": date,\n",
    "                            \"MAP_NAME\": row[\"MAP_NAME\"],\n",
    "                            \"rehab_year\": row[\"rehab_year\"],\n",
    "                            \"veg_type\": row['veg_type'],\n",
    "                            \"veg_method\": row[\"veg_method\"],\n",
    "                            \"rehab_zone\": row[\"rehab_zone\"],\n",
    "                            \"retrofit\": row[\"retrofit\"],\n",
    "                            \"poly_id\": row[\"poly_id\"],\n",
    "                            \"short_id\": row[\"short_id\"],\n",
    "                            \"chm_resolution_m\": resolution,\n",
    "                            \"area_m2_from_chm\": chm.size * src.res[0] * src.res[1],\n",
    "                            \"area_m2_from_ge\": row.geometry.area,\n",
    "                            \"mean_height_m\": np.mean(chm),\n",
    "                            \"p90_height_m\": np.percentile(chm, 90),\n",
    "                            \"p50_height_m\": np.percentile(chm, 50),\n",
    "                            \"woody_cover\": np.mean(chm > 1.0) ,\n",
    "                        }\n",
    "                        all_results.append(result)\n",
    "                \n",
    "                except ValueError:\n",
    "                    # geometry might be outside raster bounds\n",
    "                    print(f\"  Warning: Geometry for {name} outside bounds for {date}\")\n",
    "                    continue\n",
    "    \n",
    "    except Exception as e:\n",
    "        print(f\"  Error processing {chm_file}: {e}\")\n",
    "        continue"
   ]
  },
  {
   "cell_type": "code",
   "execution_count": 27,
   "id": "77d03b44",
   "metadata": {},
   "outputs": [
    {
     "data": {
      "text/html": [
       "<div><style>\n",
       ".dataframe > thead > tr,\n",
       ".dataframe > tbody > tr {\n",
       "  text-align: right;\n",
       "  white-space: pre-wrap;\n",
       "}\n",
       "</style>\n",
       "<small>shape: (621, 16)</small><table border=\"1\" class=\"dataframe\"><thead><tr><th>date</th><th>MAP_NAME</th><th>rehab_year</th><th>veg_type</th><th>veg_method</th><th>rehab_zone</th><th>retrofit</th><th>poly_id</th><th>short_id</th><th>chm_resolution_m</th><th>area_m2_from_chm</th><th>area_m2_from_ge</th><th>mean_height_m</th><th>p90_height_m</th><th>p50_height_m</th><th>woody_cover</th></tr><tr><td>date</td><td>str</td><td>f64</td><td>str</td><td>str</td><td>str</td><td>str</td><td>str</td><td>str</td><td>f64</td><td>f64</td><td>f64</td><td>f64</td><td>f64</td><td>f64</td><td>f64</td></tr></thead><tbody><tr><td>2021-06-15</td><td>&quot;2020 Retrofit Tubestock&quot;</td><td>2020.0</td><td>&quot;hdwv&quot;</td><td>&quot;tubestock&quot;</td><td>&quot;4a&quot;</td><td>&quot;y&quot;</td><td>&quot;5fe8af24a7040ac18640bf1954a395…</td><td>&quot;a39569&quot;</td><td>0.73</td><td>124679.9485</td><td>124675.09925</td><td>0.303509</td><td>0.480005</td><td>0.240004</td><td>0.020712</td></tr><tr><td>2021-06-15</td><td>&quot;2021 HDWV&quot;</td><td>2021.0</td><td>&quot;hdwv&quot;</td><td>&quot;seed&quot;</td><td>&quot;7&quot;</td><td>&quot;n&quot;</td><td>&quot;620b4f23942fea90cca63985e6185d…</td><td>&quot;185d45&quot;</td><td>0.73</td><td>250178.4314</td><td>250241.76927</td><td>0.294056</td><td>0.810004</td><td>0.169985</td><td>0.067671</td></tr><tr><td>2021-06-15</td><td>&quot;2021 HDWV&quot;</td><td>2021.0</td><td>&quot;hdwv&quot;</td><td>&quot;seed&quot;</td><td>&quot;7&quot;</td><td>&quot;n&quot;</td><td>&quot;0a19c317048b0f9a3436b48ef4d947…</td><td>&quot;d947e5&quot;</td><td>0.73</td><td>52797.6004</td><td>52804.243899</td><td>0.359272</td><td>0.619996</td><td>0.319997</td><td>0.012031</td></tr><tr><td>2021-06-15</td><td>&quot;2021 HDWV&quot;</td><td>2021.0</td><td>&quot;hdwv&quot;</td><td>&quot;seed&quot;</td><td>&quot;7&quot;</td><td>&quot;n&quot;</td><td>&quot;2adf7f8556347f58ed989ad72d6e2e…</td><td>&quot;6e2ecf&quot;</td><td>0.73</td><td>16482.0641</td><td>16499.545768</td><td>0.28607</td><td>0.820011</td><td>0.130005</td><td>0.056387</td></tr><tr><td>2021-06-15</td><td>&quot;2021 HDWV&quot;</td><td>2021.0</td><td>&quot;hdwv&quot;</td><td>&quot;seed&quot;</td><td>null</td><td>&quot;n&quot;</td><td>&quot;605f314d6db0cd1c1ceacdbcdc2c1a…</td><td>&quot;2c1a9f&quot;</td><td>0.73</td><td>3159.5641</td><td>3159.468575</td><td>0.166016</td><td>0.239995</td><td>0.159998</td><td>0.0</td></tr><tr><td>&hellip;</td><td>&hellip;</td><td>&hellip;</td><td>&hellip;</td><td>&hellip;</td><td>&hellip;</td><td>&hellip;</td><td>&hellip;</td><td>&hellip;</td><td>&hellip;</td><td>&hellip;</td><td>&hellip;</td><td>&hellip;</td><td>&hellip;</td><td>&hellip;</td><td>&hellip;</td></tr><tr><td>2025-03-31</td><td>&quot;2020 Retrofit HDWV&quot;</td><td>2020.0</td><td>&quot;hdwv&quot;</td><td>&quot;seed&quot;</td><td>&quot;4b&quot;</td><td>&quot;y&quot;</td><td>&quot;4733fa3c7361f4c852d0c87adfb12a…</td><td>&quot;b12abe&quot;</td><td>0.2</td><td>332.64</td><td>332.750021</td><td>0.100523</td><td>0.150008</td><td>0.079985</td><td>0.0095</td></tr><tr><td>2025-03-31</td><td>&quot;2020 Retrofit HDWV&quot;</td><td>2020.0</td><td>&quot;hdwv&quot;</td><td>&quot;seed&quot;</td><td>&quot;4b&quot;</td><td>&quot;y&quot;</td><td>&quot;bb050a02adbf81795d2619a6066c6b…</td><td>&quot;6c6bd6&quot;</td><td>0.2</td><td>367.52</td><td>367.399064</td><td>0.286623</td><td>0.903007</td><td>0.139998</td><td>0.082825</td></tr><tr><td>2025-03-31</td><td>&quot;2020 Retrofit HDWV&quot;</td><td>2020.0</td><td>&quot;hdwv&quot;</td><td>&quot;seed&quot;</td><td>&quot;4b&quot;</td><td>&quot;y&quot;</td><td>&quot;3a4d3f0da2d4dcc34fc2f17cde7261…</td><td>&quot;72612b&quot;</td><td>0.2</td><td>2359.96</td><td>2360.361243</td><td>0.449977</td><td>1.089993</td><td>0.209987</td><td>0.115832</td></tr><tr><td>2025-03-31</td><td>&quot;2020 Retrofit HDWV&quot;</td><td>2020.0</td><td>&quot;hdwv&quot;</td><td>&quot;seed&quot;</td><td>&quot;6&quot;</td><td>&quot;y&quot;</td><td>&quot;2fe4c2b35f53f6b5cdb5bfd379aa6c…</td><td>&quot;aa6cc4&quot;</td><td>0.2</td><td>149613.48</td><td>149613.22417</td><td>0.853721</td><td>2.730006</td><td>0.259995</td><td>0.268042</td></tr><tr><td>2025-03-31</td><td>&quot;2023 Retrofit Tubestock&quot;</td><td>2023.0</td><td>&quot;hdwv&quot;</td><td>&quot;tubestock&quot;</td><td>&quot;4b&quot;</td><td>&quot;y&quot;</td><td>&quot;123a319e4d72985b2b38f4fdeaeb19…</td><td>&quot;eb19ba&quot;</td><td>0.2</td><td>38513.08</td><td>38511.000658</td><td>0.507917</td><td>1.449987</td><td>0.179993</td><td>0.119507</td></tr></tbody></table></div>"
      ],
      "text/plain": [
       "shape: (621, 16)\n",
       "┌───────────┬───────────┬───────────┬──────────┬───┬───────────┬───────────┬───────────┬───────────┐\n",
       "│ date      ┆ MAP_NAME  ┆ rehab_yea ┆ veg_type ┆ … ┆ mean_heig ┆ p90_heigh ┆ p50_heigh ┆ woody_cov │\n",
       "│ ---       ┆ ---       ┆ r         ┆ ---      ┆   ┆ ht_m      ┆ t_m       ┆ t_m       ┆ er        │\n",
       "│ date      ┆ str       ┆ ---       ┆ str      ┆   ┆ ---       ┆ ---       ┆ ---       ┆ ---       │\n",
       "│           ┆           ┆ f64       ┆          ┆   ┆ f64       ┆ f64       ┆ f64       ┆ f64       │\n",
       "╞═══════════╪═══════════╪═══════════╪══════════╪═══╪═══════════╪═══════════╪═══════════╪═══════════╡\n",
       "│ 2021-06-1 ┆ 2020      ┆ 2020.0    ┆ hdwv     ┆ … ┆ 0.303509  ┆ 0.480005  ┆ 0.240004  ┆ 0.020712  │\n",
       "│ 5         ┆ Retrofit  ┆           ┆          ┆   ┆           ┆           ┆           ┆           │\n",
       "│           ┆ Tubestock ┆           ┆          ┆   ┆           ┆           ┆           ┆           │\n",
       "│ 2021-06-1 ┆ 2021 HDWV ┆ 2021.0    ┆ hdwv     ┆ … ┆ 0.294056  ┆ 0.810004  ┆ 0.169985  ┆ 0.067671  │\n",
       "│ 5         ┆           ┆           ┆          ┆   ┆           ┆           ┆           ┆           │\n",
       "│ 2021-06-1 ┆ 2021 HDWV ┆ 2021.0    ┆ hdwv     ┆ … ┆ 0.359272  ┆ 0.619996  ┆ 0.319997  ┆ 0.012031  │\n",
       "│ 5         ┆           ┆           ┆          ┆   ┆           ┆           ┆           ┆           │\n",
       "│ 2021-06-1 ┆ 2021 HDWV ┆ 2021.0    ┆ hdwv     ┆ … ┆ 0.28607   ┆ 0.820011  ┆ 0.130005  ┆ 0.056387  │\n",
       "│ 5         ┆           ┆           ┆          ┆   ┆           ┆           ┆           ┆           │\n",
       "│ 2021-06-1 ┆ 2021 HDWV ┆ 2021.0    ┆ hdwv     ┆ … ┆ 0.166016  ┆ 0.239995  ┆ 0.159998  ┆ 0.0       │\n",
       "│ 5         ┆           ┆           ┆          ┆   ┆           ┆           ┆           ┆           │\n",
       "│ …         ┆ …         ┆ …         ┆ …        ┆ … ┆ …         ┆ …         ┆ …         ┆ …         │\n",
       "│ 2025-03-3 ┆ 2020      ┆ 2020.0    ┆ hdwv     ┆ … ┆ 0.100523  ┆ 0.150008  ┆ 0.079985  ┆ 0.0095    │\n",
       "│ 1         ┆ Retrofit  ┆           ┆          ┆   ┆           ┆           ┆           ┆           │\n",
       "│           ┆ HDWV      ┆           ┆          ┆   ┆           ┆           ┆           ┆           │\n",
       "│ 2025-03-3 ┆ 2020      ┆ 2020.0    ┆ hdwv     ┆ … ┆ 0.286623  ┆ 0.903007  ┆ 0.139998  ┆ 0.082825  │\n",
       "│ 1         ┆ Retrofit  ┆           ┆          ┆   ┆           ┆           ┆           ┆           │\n",
       "│           ┆ HDWV      ┆           ┆          ┆   ┆           ┆           ┆           ┆           │\n",
       "│ 2025-03-3 ┆ 2020      ┆ 2020.0    ┆ hdwv     ┆ … ┆ 0.449977  ┆ 1.089993  ┆ 0.209987  ┆ 0.115832  │\n",
       "│ 1         ┆ Retrofit  ┆           ┆          ┆   ┆           ┆           ┆           ┆           │\n",
       "│           ┆ HDWV      ┆           ┆          ┆   ┆           ┆           ┆           ┆           │\n",
       "│ 2025-03-3 ┆ 2020      ┆ 2020.0    ┆ hdwv     ┆ … ┆ 0.853721  ┆ 2.730006  ┆ 0.259995  ┆ 0.268042  │\n",
       "│ 1         ┆ Retrofit  ┆           ┆          ┆   ┆           ┆           ┆           ┆           │\n",
       "│           ┆ HDWV      ┆           ┆          ┆   ┆           ┆           ┆           ┆           │\n",
       "│ 2025-03-3 ┆ 2023      ┆ 2023.0    ┆ hdwv     ┆ … ┆ 0.507917  ┆ 1.449987  ┆ 0.179993  ┆ 0.119507  │\n",
       "│ 1         ┆ Retrofit  ┆           ┆          ┆   ┆           ┆           ┆           ┆           │\n",
       "│           ┆ Tubestock ┆           ┆          ┆   ┆           ┆           ┆           ┆           │\n",
       "└───────────┴───────────┴───────────┴──────────┴───┴───────────┴───────────┴───────────┴───────────┘"
      ]
     },
     "execution_count": 27,
     "metadata": {},
     "output_type": "execute_result"
    }
   ],
   "source": [
    "# Convert to Polars DataFrame\n",
    "if all_results:\n",
    "    df = pl.DataFrame(all_results)\n",
    "    # Convert date column to proper date type\n",
    "    df = df.with_columns(pl.col(\"date\").str.to_date(\"%Y-%m-%d\"))\n",
    "else:\n",
    "    # Return empty DataFrame with correct schema\n",
    "    df = pl.DataFrame({\n",
    "        \"date\": [],\n",
    "        \"MAP_NAME\": [],\n",
    "        \"rehab_year\": [],\n",
    "        \"veg_type\": [],\n",
    "        \"veg_method\": [],\n",
    "        \"rehab_zone\": [],\n",
    "        \"retrofit\": [],\n",
    "        \"poly_id\": [],\n",
    "        \"short_id\": [],\n",
    "        \"chm_resolution_m\": [],\n",
    "        \"area_m2\": [],\n",
    "        \"mean_height_m\": [],\n",
    "        \"p90_height_m\": [],\n",
    "        \"woody_cover_pct\": []\n",
    "    })\n",
    "\n",
    "df"
   ]
  },
  {
   "cell_type": "code",
   "execution_count": 17,
   "id": "a20cf5a7",
   "metadata": {},
   "outputs": [
    {
     "data": {
      "text/plain": [
       "Index(['LAYER', 'MAP_NAME', 'CLOSED', 'BORDER_STY', 'BORDER_COL', 'BORDER_WID',\n",
       "       'FILL_STYLE', 'FILL_COLOR', 'Area', 'UNIQUE_ID', 'rehab_year',\n",
       "       'veg_type', 'notes', 'veg_method', 'rehab_zone', 'edit_notes',\n",
       "       'retrofit', 'geometry', 'poly_id', 'short_id'],\n",
       "      dtype='object')"
      ]
     },
     "execution_count": 17,
     "metadata": {},
     "output_type": "execute_result"
    }
   ],
   "source": [
    "shapes.columns"
   ]
  },
  {
   "cell_type": "code",
   "execution_count": 28,
   "id": "07253bfa",
   "metadata": {},
   "outputs": [],
   "source": [
    "# save it out to parquet\n",
    "output_file = \"output\\\\calc_stats\\\\rehab_chm_stats.parquet\"\n",
    "\n",
    "df.write_parquet(output_file)"
   ]
  },
  {
   "cell_type": "code",
   "execution_count": null,
   "id": "c8f720a3",
   "metadata": {},
   "outputs": [],
   "source": [
    "_df = (df\n",
    "        .filter((pl.col('veg_type') != 'pasture') & (pl.col('rehab_year') < 2021))\n",
    "        .sort(by=['short_id', 'date'])\n",
    "      )\n",
    "\n",
    "_n_categories = _df.select('short_id').unique().height\n",
    "_n_cols = 3  # facet_col_wrap value\n",
    "_n_rows = (_n_categories + _n_cols - 1) // _n_cols\n",
    "\n",
    "\n",
    "_fig = px.line(\n",
    "    _df\n",
    "    , x = 'date'\n",
    "    , y = 'p90_height_m'\n",
    "    , facet_col = 'short_id'\n",
    "    , facet_col_wrap = _n_cols\n",
    "    # , facet_row_wrap = _n_rows\n",
    "    , template = 'plotly_white'\n",
    "    , title = 'P90 Height Over Time for Area b9ceaa'\n",
    "    , height=400*_n_rows\n",
    "    , facet_row_spacing = 0.005\n",
    ")\n",
    "_fig.update_layout(yaxis_title=None, xaxis_title=None)\n",
    "\n",
    "_fig.show()\n",
    "# _n_categories"
   ]
  }
 ],
 "metadata": {
  "kernelspec": {
   "display_name": "geo_env",
   "language": "python",
   "name": "python3"
  },
  "language_info": {
   "codemirror_mode": {
    "name": "ipython",
    "version": 3
   },
   "file_extension": ".py",
   "mimetype": "text/x-python",
   "name": "python",
   "nbconvert_exporter": "python",
   "pygments_lexer": "ipython3",
   "version": "3.12.10"
  }
 },
 "nbformat": 4,
 "nbformat_minor": 5
}
