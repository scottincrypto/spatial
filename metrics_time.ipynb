{
 "cells": [
  {
   "cell_type": "code",
   "execution_count": 9,
   "id": "c87de6aa",
   "metadata": {},
   "outputs": [],
   "source": [
    "# imports \n",
    "import geopandas as gpd\n",
    "import rasterio\n",
    "from rasterio.mask import mask\n",
    "import numpy as np\n",
    "from shapely.geometry import mapping\n",
    "import pandas as pd\n",
    "import polars as pl\n",
    "import os\n",
    "from glob import glob\n",
    "import hashlib\n",
    "import re"
   ]
  },
  {
   "cell_type": "code",
   "execution_count": 10,
   "id": "2de3b48f",
   "metadata": {},
   "outputs": [],
   "source": [
    "# load the shapefile\n",
    "file = \"output\\\\shapefiles\\\\rehab_poly_exploded\\\\rehab_poly_exploded.shp\"\n",
    "# file = \"output\\\\rehab_poly_unmodified\\\\rehab_poly_unmodified.shp\"\n",
    "shapes = gpd.read_file(file)\n",
    "shapes = shapes.to_crs(\"EPSG:7856\")  # match CHM CRS\n",
    "# shapes.rehab_zone.isnull().sum()  # check for null values in rehab_zone\n",
    "\n",
    "# recreate the virtual columns:\n",
    "# Get centroids and extract x, y coordinates\n",
    "centroids = shapes.geometry.centroid\n",
    "x_coords = centroids.x\n",
    "y_coords = centroids.y\n",
    "\n",
    "# Create the concatenated string (x,y format)\n",
    "coord_strings = x_coords.astype(str) + ',' + y_coords.astype(str)\n",
    "\n",
    "# Calculate MD5 hash for each coordinate string\n",
    "shapes['poly_id'] = coord_strings.apply(lambda x: hashlib.md5(x.encode()).hexdigest())\n",
    "shapes['short_id'] = shapes.poly_id.str[-6:]  # create a short ID from the poly_id\n",
    "\n",
    "# shapes.sort_values(by='short_id') "
   ]
  },
  {
   "cell_type": "code",
   "execution_count": 11,
   "id": "1aedbf4e",
   "metadata": {},
   "outputs": [
    {
     "data": {
      "text/plain": [
       "{'2021-06-15': {'chm': 'output\\\\processed\\\\2021-06-15\\\\chm_0.73.tif'},\n",
       " '2021-12-15': {'chm': 'output\\\\processed\\\\2021-12-15\\\\chm_0.67.tif'},\n",
       " '2022-06-15': {'chm': 'output\\\\processed\\\\2022-06-15\\\\chm_0.65.tif'},\n",
       " '2022-12-19': {'chm': 'output\\\\processed\\\\2022-12-19\\\\chm_0.68.tif'},\n",
       " '2023-12-22': {'chm': 'output\\\\processed\\\\2023-12-22\\\\chm_0.36.tif'},\n",
       " '2024-03-14': {'chm': 'output\\\\processed\\\\2024-03-14\\\\chm_0.35.tif'},\n",
       " '2024-07-29': {'chm': 'output\\\\processed\\\\2024-07-29\\\\chm_0.35.tif'},\n",
       " '2024-10-04': {'chm': 'output\\\\processed\\\\2024-10-04\\\\chm_0.2.tif'},\n",
       " '2025-03-31': {'chm': 'output\\\\processed\\\\2025-03-31\\\\chm_0.2.tif'}}"
      ]
     },
     "execution_count": 11,
     "metadata": {},
     "output_type": "execute_result"
    }
   ],
   "source": [
    "# go through the processed files and find the chm. put them in a dict indexed by the date\n",
    "\n",
    "processed_dir = \"output\\\\processed\"\n",
    "chm_by_date = {}\n",
    "\n",
    "for date_folder in os.listdir(processed_dir):\n",
    "    date_path = os.path.join(processed_dir, date_folder)\n",
    "    if os.path.isdir(date_path):\n",
    "        chm_files = glob(os.path.join(date_path, \"chm*.tif\"))\n",
    "        if chm_files:\n",
    "            # Store relative path from project root\n",
    "            rel_path = os.path.relpath(chm_files[0])\n",
    "            chm_by_date[date_folder] = {\"chm\": rel_path}\n",
    "\n",
    "chm_by_date"
   ]
  },
  {
   "cell_type": "code",
   "execution_count": 12,
   "id": "39cdf779",
   "metadata": {},
   "outputs": [
    {
     "name": "stdout",
     "output_type": "stream",
     "text": [
      "Processing 2021-06-15: output\\processed\\2021-06-15\\chm_0.73.tif\n"
     ]
    }
   ],
   "source": [
    "# def process_chm_files(chm_dict, shapes_gdf):\n",
    "\"\"\"\n",
    "Process CHM files and calculate statistics for each shape and date.\n",
    "\n",
    "Parameters:\n",
    "chm_dict: Dictionary with dates as keys and CHM file paths\n",
    "shapes_gdf: GeoDataFrame containing the shapefile data\n",
    "\n",
    "Returns:\n",
    "polars.DataFrame with statistics for each date and MAP_NAME\n",
    "\"\"\"\n",
    "all_results = []\n",
    "\n",
    "chm_by_date = dict(list(chm_by_date.items())[:1])\n",
    "\n",
    "# Process each date and CHM file\n",
    "for date, file_info in chm_by_date.items():\n",
    "    chm_file = file_info['chm']\n",
    "    match = re.search(r'chm_([0-9.]+)\\.tif', chm_file)\n",
    "    if match:\n",
    "        resolution = float(match.group(1))\n",
    "    else:\n",
    "        print(f\"  Warning: Could not extract resolution from {chm_file}\")\n",
    "        resultion = None\n",
    "        continue\n",
    "    \n",
    "    print(f\"Processing {date}: {chm_file}\")\n",
    "    \n",
    "    try:\n",
    "        with rasterio.open(chm_file) as src:\n",
    "            # Process each shape in the shapefile\n",
    "            for _, row in shapes.iterrows():\n",
    "                geom = [mapping(row.geometry)]\n",
    "                name = row[\"MAP_NAME\"]\n",
    "                \n",
    "                try:\n",
    "                    # Mask the raster to the geometry\n",
    "                    out_image, _ = mask(src, geom, crop=True)\n",
    "                    chm = out_image[0]\n",
    "                    chm = chm[chm > 0]  # remove NoData or zero-height\n",
    "                    \n",
    "                    if chm.size > 0:\n",
    "                        result = {\n",
    "                            \"date\": date,\n",
    "                            \"MAP_NAME\": row[\"MAP_NAME\"],\n",
    "                            \"rehab_year\": row[\"rehab_year\"],\n",
    "                            \"veg_type\": row['veg_type'],\n",
    "                            \"veg_method\": row[\"veg_method\"],\n",
    "                            \"rehab_zone\": row[\"rehab_zone\"],\n",
    "                            \"retrofit\": row[\"retrofit\"],\n",
    "                            \"poly_id\": row[\"poly_id\"],\n",
    "                            \"short_id\": row[\"short_id\"],\n",
    "                            \"chm_resolution_m\": resolution,\n",
    "                            \"area_m2_from_chm\": chm.size * src.res[0] * src.res[1],\n",
    "                            \"area_m2_from_geometry\": row.geometry.area,\n",
    "                            \"mean_height_m\": np.mean(chm),\n",
    "                            \"p90_height_m\": np.percentile(chm, 90),\n",
    "                            \"p50_height_m\": np.percentile(chm, 50),\n",
    "                            \"woody_cover_pct\": np.mean(chm > 1.0) * 100,\n",
    "                        }\n",
    "                        all_results.append(result)\n",
    "                \n",
    "                except ValueError:\n",
    "                    # geometry might be outside raster bounds\n",
    "                    print(f\"  Warning: Geometry for {name} outside bounds for {date}\")\n",
    "                    continue\n",
    "    \n",
    "    except Exception as e:\n",
    "        print(f\"  Error processing {chm_file}: {e}\")\n",
    "        continue"
   ]
  },
  {
   "cell_type": "code",
   "execution_count": 8,
   "id": "77d03b44",
   "metadata": {},
   "outputs": [
    {
     "data": {
      "text/html": [
       "<div><style>\n",
       ".dataframe > thead > tr,\n",
       ".dataframe > tbody > tr {\n",
       "  text-align: right;\n",
       "  white-space: pre-wrap;\n",
       "}\n",
       "</style>\n",
       "<small>shape: (69, 14)</small><table border=\"1\" class=\"dataframe\"><thead><tr><th>date</th><th>MAP_NAME</th><th>rehab_year</th><th>veg_type</th><th>veg_method</th><th>rehab_zone</th><th>retrofit</th><th>poly_id</th><th>short_id</th><th>chm_resolution_m</th><th>area_m2</th><th>mean_height_m</th><th>p90_height_m</th><th>woody_cover_pct</th></tr><tr><td>date</td><td>str</td><td>f64</td><td>str</td><td>str</td><td>str</td><td>str</td><td>str</td><td>str</td><td>f64</td><td>f64</td><td>f64</td><td>f64</td><td>f64</td></tr></thead><tbody><tr><td>2021-12-15</td><td>&quot;2020 Retrofit Tubestock&quot;</td><td>2020.0</td><td>&quot;hdwv&quot;</td><td>&quot;tubestock&quot;</td><td>&quot;4a&quot;</td><td>&quot;y&quot;</td><td>&quot;5fe8af24a7040ac18640bf1954a395…</td><td>&quot;a39569&quot;</td><td>0.67</td><td>124675.2415</td><td>0.297397</td><td>0.459999</td><td>2.090842</td></tr><tr><td>2021-12-15</td><td>&quot;2021 HDWV&quot;</td><td>2021.0</td><td>&quot;hdwv&quot;</td><td>&quot;seed&quot;</td><td>&quot;7&quot;</td><td>&quot;n&quot;</td><td>&quot;620b4f23942fea90cca63985e6185d…</td><td>&quot;185d45&quot;</td><td>0.67</td><td>250212.371</td><td>0.189326</td><td>0.320001</td><td>0.077504</td></tr><tr><td>2021-12-15</td><td>&quot;2021 HDWV&quot;</td><td>2021.0</td><td>&quot;hdwv&quot;</td><td>&quot;seed&quot;</td><td>&quot;7&quot;</td><td>&quot;n&quot;</td><td>&quot;0a19c317048b0f9a3436b48ef4d947…</td><td>&quot;d947e5&quot;</td><td>0.67</td><td>52800.0669</td><td>0.348162</td><td>0.589993</td><td>1.39941</td></tr><tr><td>2021-12-15</td><td>&quot;2021 HDWV&quot;</td><td>2021.0</td><td>&quot;hdwv&quot;</td><td>&quot;seed&quot;</td><td>&quot;7&quot;</td><td>&quot;n&quot;</td><td>&quot;2adf7f8556347f58ed989ad72d6e2e…</td><td>&quot;6e2ecf&quot;</td><td>0.67</td><td>16501.564</td><td>0.180333</td><td>0.309993</td><td>0.0</td></tr><tr><td>2021-12-15</td><td>&quot;2021 HDWV&quot;</td><td>2021.0</td><td>&quot;hdwv&quot;</td><td>&quot;seed&quot;</td><td>null</td><td>&quot;n&quot;</td><td>&quot;605f314d6db0cd1c1ceacdbcdc2c1a…</td><td>&quot;2c1a9f&quot;</td><td>0.67</td><td>3155.767</td><td>0.194</td><td>0.309991</td><td>0.014225</td></tr><tr><td>&hellip;</td><td>&hellip;</td><td>&hellip;</td><td>&hellip;</td><td>&hellip;</td><td>&hellip;</td><td>&hellip;</td><td>&hellip;</td><td>&hellip;</td><td>&hellip;</td><td>&hellip;</td><td>&hellip;</td><td>&hellip;</td><td>&hellip;</td></tr><tr><td>2021-12-15</td><td>&quot;2020 Retrofit HDWV&quot;</td><td>2020.0</td><td>&quot;hdwv&quot;</td><td>&quot;seed&quot;</td><td>&quot;4b&quot;</td><td>&quot;y&quot;</td><td>&quot;4733fa3c7361f4c852d0c87adfb12a…</td><td>&quot;b12abe&quot;</td><td>0.67</td><td>333.5327</td><td>0.09381</td><td>0.150014</td><td>0.269179</td></tr><tr><td>2021-12-15</td><td>&quot;2020 Retrofit HDWV&quot;</td><td>2020.0</td><td>&quot;hdwv&quot;</td><td>&quot;seed&quot;</td><td>&quot;4b&quot;</td><td>&quot;y&quot;</td><td>&quot;bb050a02adbf81795d2619a6066c6b…</td><td>&quot;6c6bd6&quot;</td><td>0.67</td><td>367.2002</td><td>0.080024</td><td>0.120015</td><td>0.0</td></tr><tr><td>2021-12-15</td><td>&quot;2020 Retrofit HDWV&quot;</td><td>2020.0</td><td>&quot;hdwv&quot;</td><td>&quot;seed&quot;</td><td>&quot;4b&quot;</td><td>&quot;y&quot;</td><td>&quot;3a4d3f0da2d4dcc34fc2f17cde7261…</td><td>&quot;72612b&quot;</td><td>0.67</td><td>2360.7651</td><td>0.160185</td><td>0.280005</td><td>0.133105</td></tr><tr><td>2021-12-15</td><td>&quot;2020 Retrofit HDWV&quot;</td><td>2020.0</td><td>&quot;hdwv&quot;</td><td>&quot;seed&quot;</td><td>&quot;6&quot;</td><td>&quot;y&quot;</td><td>&quot;2fe4c2b35f53f6b5cdb5bfd379aa6c…</td><td>&quot;aa6cc4&quot;</td><td>0.67</td><td>149613.4321</td><td>0.450883</td><td>0.960007</td><td>9.451257</td></tr><tr><td>2021-12-15</td><td>&quot;2023 Retrofit Tubestock&quot;</td><td>2023.0</td><td>&quot;hdwv&quot;</td><td>&quot;tubestock&quot;</td><td>&quot;4b&quot;</td><td>&quot;y&quot;</td><td>&quot;123a319e4d72985b2b38f4fdeaeb19…</td><td>&quot;eb19ba&quot;</td><td>0.67</td><td>38484.197</td><td>0.145691</td><td>0.229985</td><td>0.699872</td></tr></tbody></table></div>"
      ],
      "text/plain": [
       "shape: (69, 14)\n",
       "┌───────────┬───────────┬───────────┬──────────┬───┬───────────┬───────────┬───────────┬───────────┐\n",
       "│ date      ┆ MAP_NAME  ┆ rehab_yea ┆ veg_type ┆ … ┆ area_m2   ┆ mean_heig ┆ p90_heigh ┆ woody_cov │\n",
       "│ ---       ┆ ---       ┆ r         ┆ ---      ┆   ┆ ---       ┆ ht_m      ┆ t_m       ┆ er_pct    │\n",
       "│ date      ┆ str       ┆ ---       ┆ str      ┆   ┆ f64       ┆ ---       ┆ ---       ┆ ---       │\n",
       "│           ┆           ┆ f64       ┆          ┆   ┆           ┆ f64       ┆ f64       ┆ f64       │\n",
       "╞═══════════╪═══════════╪═══════════╪══════════╪═══╪═══════════╪═══════════╪═══════════╪═══════════╡\n",
       "│ 2021-12-1 ┆ 2020      ┆ 2020.0    ┆ hdwv     ┆ … ┆ 124675.24 ┆ 0.297397  ┆ 0.459999  ┆ 2.090842  │\n",
       "│ 5         ┆ Retrofit  ┆           ┆          ┆   ┆ 15        ┆           ┆           ┆           │\n",
       "│           ┆ Tubestock ┆           ┆          ┆   ┆           ┆           ┆           ┆           │\n",
       "│ 2021-12-1 ┆ 2021 HDWV ┆ 2021.0    ┆ hdwv     ┆ … ┆ 250212.37 ┆ 0.189326  ┆ 0.320001  ┆ 0.077504  │\n",
       "│ 5         ┆           ┆           ┆          ┆   ┆ 1         ┆           ┆           ┆           │\n",
       "│ 2021-12-1 ┆ 2021 HDWV ┆ 2021.0    ┆ hdwv     ┆ … ┆ 52800.066 ┆ 0.348162  ┆ 0.589993  ┆ 1.39941   │\n",
       "│ 5         ┆           ┆           ┆          ┆   ┆ 9         ┆           ┆           ┆           │\n",
       "│ 2021-12-1 ┆ 2021 HDWV ┆ 2021.0    ┆ hdwv     ┆ … ┆ 16501.564 ┆ 0.180333  ┆ 0.309993  ┆ 0.0       │\n",
       "│ 5         ┆           ┆           ┆          ┆   ┆           ┆           ┆           ┆           │\n",
       "│ 2021-12-1 ┆ 2021 HDWV ┆ 2021.0    ┆ hdwv     ┆ … ┆ 3155.767  ┆ 0.194     ┆ 0.309991  ┆ 0.014225  │\n",
       "│ 5         ┆           ┆           ┆          ┆   ┆           ┆           ┆           ┆           │\n",
       "│ …         ┆ …         ┆ …         ┆ …        ┆ … ┆ …         ┆ …         ┆ …         ┆ …         │\n",
       "│ 2021-12-1 ┆ 2020      ┆ 2020.0    ┆ hdwv     ┆ … ┆ 333.5327  ┆ 0.09381   ┆ 0.150014  ┆ 0.269179  │\n",
       "│ 5         ┆ Retrofit  ┆           ┆          ┆   ┆           ┆           ┆           ┆           │\n",
       "│           ┆ HDWV      ┆           ┆          ┆   ┆           ┆           ┆           ┆           │\n",
       "│ 2021-12-1 ┆ 2020      ┆ 2020.0    ┆ hdwv     ┆ … ┆ 367.2002  ┆ 0.080024  ┆ 0.120015  ┆ 0.0       │\n",
       "│ 5         ┆ Retrofit  ┆           ┆          ┆   ┆           ┆           ┆           ┆           │\n",
       "│           ┆ HDWV      ┆           ┆          ┆   ┆           ┆           ┆           ┆           │\n",
       "│ 2021-12-1 ┆ 2020      ┆ 2020.0    ┆ hdwv     ┆ … ┆ 2360.7651 ┆ 0.160185  ┆ 0.280005  ┆ 0.133105  │\n",
       "│ 5         ┆ Retrofit  ┆           ┆          ┆   ┆           ┆           ┆           ┆           │\n",
       "│           ┆ HDWV      ┆           ┆          ┆   ┆           ┆           ┆           ┆           │\n",
       "│ 2021-12-1 ┆ 2020      ┆ 2020.0    ┆ hdwv     ┆ … ┆ 149613.43 ┆ 0.450883  ┆ 0.960007  ┆ 9.451257  │\n",
       "│ 5         ┆ Retrofit  ┆           ┆          ┆   ┆ 21        ┆           ┆           ┆           │\n",
       "│           ┆ HDWV      ┆           ┆          ┆   ┆           ┆           ┆           ┆           │\n",
       "│ 2021-12-1 ┆ 2023      ┆ 2023.0    ┆ hdwv     ┆ … ┆ 38484.197 ┆ 0.145691  ┆ 0.229985  ┆ 0.699872  │\n",
       "│ 5         ┆ Retrofit  ┆           ┆          ┆   ┆           ┆           ┆           ┆           │\n",
       "│           ┆ Tubestock ┆           ┆          ┆   ┆           ┆           ┆           ┆           │\n",
       "└───────────┴───────────┴───────────┴──────────┴───┴───────────┴───────────┴───────────┴───────────┘"
      ]
     },
     "execution_count": 8,
     "metadata": {},
     "output_type": "execute_result"
    }
   ],
   "source": [
    "# Convert to Polars DataFrame\n",
    "if all_results:\n",
    "    df = pl.DataFrame(all_results)\n",
    "    # Convert date column to proper date type\n",
    "    df = df.with_columns(pl.col(\"date\").str.to_date(\"%Y-%m-%d\"))\n",
    "else:\n",
    "    # Return empty DataFrame with correct schema\n",
    "    df = pl.DataFrame({\n",
    "        \"date\": [],\n",
    "        \"MAP_NAME\": [],\n",
    "        \"rehab_year\": [],\n",
    "        \"veg_type\": [],\n",
    "        \"veg_method\": [],\n",
    "        \"rehab_zone\": [],\n",
    "        \"retrofit\": [],\n",
    "        \"poly_id\": [],\n",
    "        \"short_id\": [],\n",
    "        \"chm_resolution_m\": [],\n",
    "        \"area_m2\": [],\n",
    "        \"mean_height_m\": [],\n",
    "        \"p90_height_m\": [],\n",
    "        \"woody_cover_pct\": []\n",
    "    })\n",
    "\n",
    "df"
   ]
  },
  {
   "cell_type": "code",
   "execution_count": 17,
   "id": "a20cf5a7",
   "metadata": {},
   "outputs": [
    {
     "data": {
      "text/plain": [
       "Index(['LAYER', 'MAP_NAME', 'CLOSED', 'BORDER_STY', 'BORDER_COL', 'BORDER_WID',\n",
       "       'FILL_STYLE', 'FILL_COLOR', 'Area', 'UNIQUE_ID', 'rehab_year',\n",
       "       'veg_type', 'notes', 'veg_method', 'rehab_zone', 'edit_notes',\n",
       "       'retrofit', 'geometry', 'poly_id', 'short_id'],\n",
       "      dtype='object')"
      ]
     },
     "execution_count": 17,
     "metadata": {},
     "output_type": "execute_result"
    }
   ],
   "source": [
    "shapes.columns"
   ]
  },
  {
   "cell_type": "code",
   "execution_count": null,
   "id": "07253bfa",
   "metadata": {},
   "outputs": [],
   "source": [
    "# save it out to parquet\n",
    "output_file = \"output\\\\rehab_chm_stats.parquet\"\n",
    "\n",
    "df.write_parquet(output_file)"
   ]
  }
 ],
 "metadata": {
  "kernelspec": {
   "display_name": "geo_env",
   "language": "python",
   "name": "python3"
  },
  "language_info": {
   "codemirror_mode": {
    "name": "ipython",
    "version": 3
   },
   "file_extension": ".py",
   "mimetype": "text/x-python",
   "name": "python",
   "nbconvert_exporter": "python",
   "pygments_lexer": "ipython3",
   "version": "3.12.10"
  }
 },
 "nbformat": 4,
 "nbformat_minor": 5
}
