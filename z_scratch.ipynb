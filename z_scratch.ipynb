{
 "cells": [
  {
   "cell_type": "code",
   "execution_count": null,
   "id": "e28f00e7",
   "metadata": {},
   "outputs": [],
   "source": [
    "# imports\n",
    "import pdal\n",
    "import json\n",
    "import os\n",
    "import time"
   ]
  },
  {
   "cell_type": "code",
   "execution_count": 5,
   "id": "152ad784",
   "metadata": {},
   "outputs": [
    {
     "data": {
      "text/plain": [
       "[1364, 2156, 8580]"
      ]
     },
     "execution_count": 5,
     "metadata": {},
     "output_type": "execute_result"
    }
   ],
   "source": [
    "files = 11\n",
    "tiles_per_file = 4\n",
    "size_per_file = [31,49,195]\n",
    "\n",
    "size = [s * tiles_per_file * files for s in size_per_file]\n",
    "\n",
    "size"
   ]
  },
  {
   "cell_type": "code",
   "execution_count": 1,
   "id": "3870e2f9",
   "metadata": {},
   "outputs": [
    {
     "data": {
      "text/plain": [
       "5.65"
      ]
     },
     "execution_count": 1,
     "metadata": {},
     "output_type": "execute_result"
    }
   ],
   "source": [
    "226/40"
   ]
  },
  {
   "cell_type": "code",
   "execution_count": 2,
   "id": "f606b0ed",
   "metadata": {},
   "outputs": [
    {
     "data": {
      "text/plain": [
       "10250"
      ]
     },
     "execution_count": 2,
     "metadata": {},
     "output_type": "execute_result"
    }
   ],
   "source": [
    "props = [\"black mtn\", \"kenelea\", \"merriwa\"]\n",
    "amt = [2845, 4744, 2661]\n",
    "\n",
    "sum(amt)"
   ]
  }
 ],
 "metadata": {
  "kernelspec": {
   "display_name": "geo_env",
   "language": "python",
   "name": "python3"
  },
  "language_info": {
   "codemirror_mode": {
    "name": "ipython",
    "version": 3
   },
   "file_extension": ".py",
   "mimetype": "text/x-python",
   "name": "python",
   "nbconvert_exporter": "python",
   "pygments_lexer": "ipython3",
   "version": "3.12.10"
  }
 },
 "nbformat": 4,
 "nbformat_minor": 5
}
