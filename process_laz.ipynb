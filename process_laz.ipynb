{
 "cells": [
  {
   "cell_type": "code",
   "execution_count": 1,
   "id": "93aa3ccb",
   "metadata": {},
   "outputs": [],
   "source": [
    "# imports\n",
    "import pdal\n",
    "import json\n",
    "import os\n",
    "import time"
   ]
  },
  {
   "cell_type": "code",
   "execution_count": 9,
   "id": "495d3979",
   "metadata": {},
   "outputs": [
    {
     "name": "stdout",
     "output_type": "stream",
     "text": [
      "{'pipeline': [{'type': 'readers.las', 'filename': 'L:\\\\SURVEY\\\\08 - Projects & Photos\\\\LiDAR surveys\\\\2024-2025\\\\MAR25\\\\Ground Only (all)\\\\Clipped_1000m\\\\*.las'}, {'type': 'writers.las', 'filename': 'output\\\\2025_03_combined.laz'}, {'type': 'writers.copc', 'filename': 'output\\\\2025_03_combined.copc.laz'}]}\n",
      "Starting PDAL pipeline execution...\n"
     ]
    },
    {
     "ename": "",
     "evalue": "",
     "output_type": "error",
     "traceback": [
      "\u001b[1;31mThe Kernel crashed while executing code in the current cell or a previous cell. \n",
      "\u001b[1;31mPlease review the code in the cell(s) to identify a possible cause of the failure. \n",
      "\u001b[1;31mClick <a href='https://aka.ms/vscodeJupyterKernelCrash'>here</a> for more info. \n",
      "\u001b[1;31mView Jupyter <a href='command:jupyter.viewOutput'>log</a> for further details."
     ]
    },
    {
     "ename": "",
     "evalue": "",
     "output_type": "error",
     "traceback": [
      "\u001b[1;31mCanceled future for execute_request message before replies were done"
     ]
    },
    {
     "ename": "",
     "evalue": "",
     "output_type": "error",
     "traceback": [
      "\u001b[1;31mCanceled future for execute_request message before replies were done. \n",
      "\u001b[1;31mView Jupyter <a href='command:jupyter.viewOutput'>log</a> for further details."
     ]
    }
   ],
   "source": [
    "# compute the HAG and write to laz and copc files \n",
    "\n",
    "# las files many - we don't want the whole lot however. Just stick with the files in the emplacement\n",
    "# tile filesnames are bottom left indexed\n",
    "min_x = 295000\n",
    "max_x = 297000\n",
    "min_y = 6425000\n",
    "max_y = 6428000\n",
    "step = 1000\n",
    "excluded_files = ['297000_6425000.las']\n",
    "output_filename = \"output\\\\2025_03_combined.laz\"\n",
    "output_filename_copc = \"output\\\\2025_03_combined.copc.laz\"\n",
    "\n",
    "root_dir = \"L:\\\\SURVEY\\\\08 - Projects & Photos\\\\LiDAR surveys\\\\2024-2025\\\\MAR25\\\\Ground Only (all)\\\\Clipped_1000m\"\n",
    "\n",
    "las_files = []\n",
    "for x in range(min_x, max_x+step, step):\n",
    "    for y in range(min_y, max_y+step, step):\n",
    "        # skip the excluded files\n",
    "        if f\"{x}_{y}.las\" in excluded_files:\n",
    "            continue\n",
    "        # create the file name\n",
    "        file_name = f\"{x}_{y}.las\"\n",
    "        file_path = os.path.join(root_dir, file_name)\n",
    "        las_files.append(file_path)\n",
    "        # las_files.add(file_name)\n",
    "\n",
    "# las_files.remove('295000_6425000.las')\n",
    "\n",
    "# [print(f) for f in las_files]\n",
    "# print(len(las_files))\n",
    "\n",
    "# single file for testing\n",
    "# las_files = 'input\\\\296000_6426000.las'\n",
    "\n",
    "# globbed files - pipeline reader can't take a list \n",
    "las_files = root_dir + \"\\\\*.las\"\n",
    "\n",
    "# Create a pipeline \n",
    "# initialise the pipeline\n",
    "pipeline_json = {\n",
    "    \"pipeline\": []\n",
    "}\n",
    "\n",
    "# add the las files to the pipeline\n",
    "pipeline_json[\"pipeline\"].append({\n",
    "    \"type\": \"readers.las\",\n",
    "    \"filename\": las_files\n",
    "})\n",
    "\n",
    "# fix the coordinate system if required\n",
    "# pipeline_json[\"pipeline\"].append({\n",
    "#     \"type\": \"filters.reprojection\", \n",
    "#     \"in_srs\": \"EPSG:7856\", \n",
    "#     \"out_srs\": \"EPSG:7856\"\n",
    "# })\n",
    "\n",
    "# this input data is already classified, use these\n",
    "\n",
    "\n",
    "pipeline_json[\"pipeline\"].append({\n",
    "    \"type\": \"writers.las\",\n",
    "    \"filename\": output_filename,\n",
    "})\n",
    "\n",
    "pipeline_json[\"pipeline\"].append({\n",
    "    \"type\": \"writers.copc\",\n",
    "    \"filename\": output_filename_copc,\n",
    "})\n",
    "\n",
    "# set threads - reader/writer op seems slightly slower with more threads\n",
    "# pipeline_json['threads'] = 12\n",
    "\n",
    "print(pipeline_json )\n",
    "\n",
    "\n",
    "# Create and execute the pipeline\n",
    "pipeline = pdal.Pipeline(json.dumps(pipeline_json))\n",
    "\n",
    "\n",
    "\n",
    "\n",
    "\n",
    "print(\"Starting PDAL pipeline execution...\")\n",
    "start_time = time.time()\n",
    "\n",
    "result = pipeline.execute()\n",
    "\n",
    "end_time = time.time()\n",
    "elapsed = end_time - start_time\n",
    "print(f\"Pipeline execution complete. Processed {result} points in {elapsed:.2f} seconds.\")\n",
    "\n"
   ]
  }
 ],
 "metadata": {
  "kernelspec": {
   "display_name": "geo_env",
   "language": "python",
   "name": "python3"
  },
  "language_info": {
   "codemirror_mode": {
    "name": "ipython",
    "version": 3
   },
   "file_extension": ".py",
   "mimetype": "text/x-python",
   "name": "python",
   "nbconvert_exporter": "python",
   "pygments_lexer": "ipython3",
   "version": "3.12.10"
  }
 },
 "nbformat": 4,
 "nbformat_minor": 5
}
