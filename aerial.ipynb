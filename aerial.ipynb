{
 "cells": [
  {
   "cell_type": "code",
   "execution_count": 1,
   "id": "10b8c8fa",
   "metadata": {},
   "outputs": [
    {
     "ename": "ImportError",
     "evalue": "DLL load failed while importing _base: The specified module could not be found.",
     "output_type": "error",
     "traceback": [
      "\u001b[31m---------------------------------------------------------------------------\u001b[39m",
      "\u001b[31mImportError\u001b[39m                               Traceback (most recent call last)",
      "\u001b[36mCell\u001b[39m\u001b[36m \u001b[39m\u001b[32mIn[1]\u001b[39m\u001b[32m, line 1\u001b[39m\n\u001b[32m----> \u001b[39m\u001b[32m1\u001b[39m \u001b[38;5;28;01mimport\u001b[39;00m\u001b[38;5;250m \u001b[39m\u001b[34;01mrasterio\u001b[39;00m\n\u001b[32m      2\u001b[39m \u001b[38;5;28;01mfrom\u001b[39;00m\u001b[38;5;250m \u001b[39m\u001b[34;01mrasterio\u001b[39;00m\u001b[34;01m.\u001b[39;00m\u001b[34;01mplot\u001b[39;00m\u001b[38;5;250m \u001b[39m\u001b[38;5;28;01mimport\u001b[39;00m show\n\u001b[32m      3\u001b[39m \u001b[38;5;28;01mimport\u001b[39;00m\u001b[38;5;250m \u001b[39m\u001b[34;01msys\u001b[39;00m\n",
      "\u001b[36mFile \u001b[39m\u001b[32mc:\\Users\\scott\\Documents\\code\\spatial\\.venv\\Lib\\site-packages\\rasterio\\__init__.py:25\u001b[39m\n\u001b[32m     22\u001b[39m                 \u001b[38;5;28;01mif\u001b[39;00m p \u001b[38;5;129;01mand\u001b[39;00m glob.glob(os.path.join(p, \u001b[33m\"\u001b[39m\u001b[33mgdal*.dll\u001b[39m\u001b[33m\"\u001b[39m)):\n\u001b[32m     23\u001b[39m                     os.add_dll_directory(os.path.abspath(p))\n\u001b[32m---> \u001b[39m\u001b[32m25\u001b[39m \u001b[38;5;28;01mfrom\u001b[39;00m\u001b[38;5;250m \u001b[39m\u001b[34;01mrasterio\u001b[39;00m\u001b[34;01m.\u001b[39;00m\u001b[34;01m_base\u001b[39;00m\u001b[38;5;250m \u001b[39m\u001b[38;5;28;01mimport\u001b[39;00m DatasetBase\n\u001b[32m     26\u001b[39m \u001b[38;5;28;01mfrom\u001b[39;00m\u001b[38;5;250m \u001b[39m\u001b[34;01mrasterio\u001b[39;00m\u001b[34;01m.\u001b[39;00m\u001b[34;01m_io\u001b[39;00m\u001b[38;5;250m \u001b[39m\u001b[38;5;28;01mimport\u001b[39;00m Statistics\n\u001b[32m     27\u001b[39m \u001b[38;5;28;01mfrom\u001b[39;00m\u001b[38;5;250m \u001b[39m\u001b[34;01mrasterio\u001b[39;00m\u001b[34;01m.\u001b[39;00m\u001b[34;01m_vsiopener\u001b[39;00m\u001b[38;5;250m \u001b[39m\u001b[38;5;28;01mimport\u001b[39;00m _opener_registration\n",
      "\u001b[31mImportError\u001b[39m: DLL load failed while importing _base: The specified module could not be found."
     ]
    }
   ],
   "source": [
    "import rasterio\n",
    "from rasterio.plot import show\n",
    "import sys\n",
    "\n",
    "# Path to your ECW file\n",
    "ecw_file = \"input\\\\aerial_202412\\\\241229-BMC-Aerial.ecw\"\n",
    "\n",
    "try:\n",
    "    # Open the ECW file\n",
    "    with rasterio.open(ecw_file) as src:\n",
    "        # Display basic metadata (profile)\n",
    "        print(\"=== ECW File Metadata ===\")\n",
    "        print(\"Profile:\")\n",
    "        for key, value in src.profile.items():\n",
    "            print(f\"  {key}: {value}\")\n",
    "\n",
    "        # Additional information\n",
    "        print(\"\\n=== Additional Information ===\")\n",
    "        print(f\"File Name: {src.name}\")\n",
    "        print(f\"Width: {src.width} pixels\")\n",
    "        print(f\"Height: {src.height} pixels\")\n",
    "        print(f\"Number of Bands: {src.count}\")\n",
    "        print(f\"Coordinate Reference System (CRS): {src.crs}\")\n",
    "        print(f\"Bounds: {src.bounds}\")\n",
    "        print(f\"Resolution (pixel size): {src.res}\")\n",
    "        print(f\"Compression: {src.profile.get('compress', 'Not specified')}\")\n",
    "        print(f\"Data Types: {src.dtypes}\")\n",
    "\n",
    "        # Band descriptions (if available)\n",
    "        print(\"\\n=== Band Information ===\")\n",
    "        for i in range(1, src.count + 1):\n",
    "            print(f\"Band {i}: {src.descriptions[i-1] or 'No description'}\")\n",
    "\n",
    "        # Optional: Display the image (comment out if not needed)\n",
    "        print(\"\\nDisplaying image...\")\n",
    "        show(src, title=\"ECW Image Preview\")\n",
    "\n",
    "except Exception as e:\n",
    "    print(f\"Error opening ECW file: {e}\")\n",
    "    sys.exit(1)"
   ]
  }
 ],
 "metadata": {
  "kernelspec": {
   "display_name": "base",
   "language": "python",
   "name": "python3"
  },
  "language_info": {
   "codemirror_mode": {
    "name": "ipython",
    "version": 3
   },
   "file_extension": ".py",
   "mimetype": "text/x-python",
   "name": "python",
   "nbconvert_exporter": "python",
   "pygments_lexer": "ipython3",
   "version": "3.12.10"
  }
 },
 "nbformat": 4,
 "nbformat_minor": 5
}
