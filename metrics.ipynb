{
 "cells": [
  {
   "cell_type": "code",
   "execution_count": 2,
   "id": "3302f963",
   "metadata": {},
   "outputs": [],
   "source": [
    "# imports\n",
    "\n",
    "import numpy as np\n",
    "import rasterio\n",
    "import laspy\n",
    "import pandas as pd\n",
    "import matplotlib.pyplot as plt\n",
    "import lazrs\n",
    "from pathlib import Path\n",
    "from laspy import LazBackend\n",
    "\n",
    "# Pick 'lazrs' if you installed it, or 'laszip' if that's what you've got\n",
    "# laspy.set_laz_backend(LazBackend.Lazrs)\n",
    "# laspy.file."
   ]
  },
  {
   "cell_type": "code",
   "execution_count": 3,
   "id": "8f0fad7c",
   "metadata": {},
   "outputs": [],
   "source": [
    "###############################################################################\n",
    "# 1. QUICK METRICS FROM THE CHM (GeoTIFF, 1 m pixels)\n",
    "###############################################################################\n",
    "\n",
    "def chm_summary(chm_path: Path):\n",
    "    \"\"\"Return % woody cover > 1 m, mean height, P90 height.\"\"\"\n",
    "    with rasterio.open(chm_path) as src:\n",
    "        chm = src.read(1, masked=True)          # 2‑D masked array, metres\n",
    "    woody_mask = chm > 1                        # dense‑woody threshold\n",
    "    pct_woody = woody_mask.mean() * 100         # % of raster area\n",
    "    mean_h     = float(chm.mean())              # metres\n",
    "    p90_h      = float(np.percentile(chm.compressed(), 90))\n",
    "    return pct_woody, mean_h, p90_h"
   ]
  },
  {
   "cell_type": "code",
   "execution_count": 4,
   "id": "4de37af5",
   "metadata": {},
   "outputs": [],
   "source": [
    "###############################################################################\n",
    "# 2. STEM‑DENSITY PROXY FROM THE POINT CLOUD (HeightAboveGround already added)\n",
    "###############################################################################\n",
    "\n",
    "def stem_density(las_path: Path, grid=2.0):\n",
    "    \"\"\"\n",
    "    Very lightweight stem‑density proxy:\n",
    "      • keep points with HeightAboveGround > 2 m (ignore grass/shrub noise)\n",
    "      • drop them into a grid (default 2 × 2 m)\n",
    "      • assume one stem/cluster per occupied cell\n",
    "      • report stems ha⁻¹\n",
    "    \"\"\"\n",
    "    las = laspy.read(las_path, laz_backend=LazBackend.Lazrs)\n",
    "    try:\n",
    "        hag = las['HeightAboveGround']          # PDAL wrote this extra dim\n",
    "    except KeyError:\n",
    "        raise RuntimeError(\"LAS file missing HeightAboveGround dimension\")\n",
    "\n",
    "    mask = hag > 2                              # metres\n",
    "    if mask.sum() == 0:\n",
    "        return 0.0\n",
    "\n",
    "    x = las.x[mask]\n",
    "    y = las.y[mask]\n",
    "\n",
    "    # snap to grid\n",
    "    gx = np.floor((x - x.min()) / grid).astype(np.int32)\n",
    "    gy = np.floor((y - y.min()) / grid).astype(np.int32)\n",
    "    occupied = np.unique(np.stack([gx, gy], axis=1), axis=0).shape[0]\n",
    "\n",
    "    # area covered = raster footprint (min→max) so density is consistent\n",
    "    area_m2 = (x.max() - x.min()) * (y.max() - y.min())\n",
    "    area_ha = area_m2 / 10_000\n",
    "    return occupied / area_ha                  # stems per hectare"
   ]
  },
  {
   "cell_type": "code",
   "execution_count": 5,
   "id": "f8308fab",
   "metadata": {},
   "outputs": [],
   "source": [
    "###############################################################################\n",
    "# 3. WRAP EVERYTHING FOR ONE DATE (EXTEND TO MANY DATES AS NEEDED)\n",
    "###############################################################################\n",
    "\n",
    "def analyse_block(date, chm_path, las_path):\n",
    "    pct, mean_h, p90_h = chm_summary(chm_path)\n",
    "    stems              = stem_density(las_path)\n",
    "    return {\n",
    "        \"date\": pd.to_datetime(date),\n",
    "        \"woody_cover_pct\": pct,\n",
    "        \"mean_height_m\": mean_h,\n",
    "        \"p90_height_m\": p90_h,\n",
    "        \"stem_density_stems_per_ha\": stems,\n",
    "    }"
   ]
  },
  {
   "cell_type": "code",
   "execution_count": 6,
   "id": "58a76a83",
   "metadata": {},
   "outputs": [
    {
     "data": {
      "text/plain": [
       "{'date': Timestamp('2025-03-01 00:00:00'),\n",
       " 'woody_cover_pct': 9.54538570622169,\n",
       " 'mean_height_m': 0.2710962679691449,\n",
       " 'p90_height_m': 0.9739999771118164,\n",
       " 'stem_density_stems_per_ha': 179.43209466842882}"
      ]
     },
     "execution_count": 6,
     "metadata": {},
     "output_type": "execute_result"
    }
   ],
   "source": [
    "block = analyse_block(\n",
    "    date=\"2025-03-01\",\n",
    "    chm_path=Path(\"output\\\\chm_0_25m.tif\"),\n",
    "    las_path=Path(\"output\\\\rehab_sample_hag.laz\"),\n",
    ")\n",
    "\n",
    "block\n"
   ]
  },
  {
   "cell_type": "code",
   "execution_count": 6,
   "id": "8900129e",
   "metadata": {},
   "outputs": [
    {
     "data": {
      "text/plain": [
       "['X',\n",
       " 'Y',\n",
       " 'Z',\n",
       " 'intensity',\n",
       " 'return_number',\n",
       " 'number_of_returns',\n",
       " 'synthetic',\n",
       " 'key_point',\n",
       " 'withheld',\n",
       " 'overlap',\n",
       " 'scanner_channel',\n",
       " 'scan_direction_flag',\n",
       " 'edge_of_flight_line',\n",
       " 'classification',\n",
       " 'user_data',\n",
       " 'scan_angle',\n",
       " 'point_source_id',\n",
       " 'gps_time',\n",
       " 'HeightAboveGround']"
      ]
     },
     "execution_count": 6,
     "metadata": {},
     "output_type": "execute_result"
    }
   ],
   "source": [
    "las = laspy.read(\"output\\\\rehab_sample_hag.las\")\n",
    "list(las.point_format.dimension_names)"
   ]
  },
  {
   "cell_type": "code",
   "execution_count": 7,
   "id": "50d5a4c1",
   "metadata": {},
   "outputs": [
    {
     "data": {
      "text/plain": [
       "['X',\n",
       " 'Y',\n",
       " 'Z',\n",
       " 'intensity',\n",
       " 'return_number',\n",
       " 'number_of_returns',\n",
       " 'synthetic',\n",
       " 'key_point',\n",
       " 'withheld',\n",
       " 'overlap',\n",
       " 'scanner_channel',\n",
       " 'scan_direction_flag',\n",
       " 'edge_of_flight_line',\n",
       " 'classification',\n",
       " 'user_data',\n",
       " 'scan_angle',\n",
       " 'point_source_id',\n",
       " 'gps_time',\n",
       " 'Amplitude',\n",
       " 'Reflectance',\n",
       " 'Deviation']"
      ]
     },
     "execution_count": 7,
     "metadata": {},
     "output_type": "execute_result"
    }
   ],
   "source": [
    "las = laspy.read(\"input\\\\unfiltered\\\\291000_6424000.las\")\n",
    "list(las.point_format.dimension_names)"
   ]
  }
 ],
 "metadata": {
  "kernelspec": {
   "display_name": "geo_env",
   "language": "python",
   "name": "python3"
  },
  "language_info": {
   "codemirror_mode": {
    "name": "ipython",
    "version": 3
   },
   "file_extension": ".py",
   "mimetype": "text/x-python",
   "name": "python",
   "nbconvert_exporter": "python",
   "pygments_lexer": "ipython3",
   "version": "3.12.10"
  }
 },
 "nbformat": 4,
 "nbformat_minor": 5
}
